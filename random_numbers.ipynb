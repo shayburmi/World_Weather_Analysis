{
 "cells": [
  {
   "cell_type": "code",
   "execution_count": 1,
   "id": "b25a4d7c",
   "metadata": {},
   "outputs": [],
   "source": [
    "import random"
   ]
  },
  {
   "cell_type": "code",
   "execution_count": 8,
   "id": "9210edf1",
   "metadata": {},
   "outputs": [
    {
     "data": {
      "text/plain": [
       "-52.87292675543493"
      ]
     },
     "execution_count": 8,
     "metadata": {},
     "output_type": "execute_result"
    }
   ],
   "source": [
    "random_number = random.randint(-90,89) + random.random()\n",
    "random_number"
   ]
  },
  {
   "cell_type": "code",
   "execution_count": 10,
   "id": "1d57bd0a",
   "metadata": {},
   "outputs": [
    {
     "data": {
      "text/plain": [
       "[-71.51784028770031,\n",
       " 9.993720785485564,\n",
       " 1.451098429433604,\n",
       " -0.9989745252006027,\n",
       " 3.4574935355437915,\n",
       " 34.77090731459335,\n",
       " -79.83823807901865,\n",
       " 18.784474970239447,\n",
       " 51.77951749348683,\n",
       " -71.77467146798247]"
      ]
     },
     "execution_count": 10,
     "metadata": {},
     "output_type": "execute_result"
    }
   ],
   "source": [
    "x = 1\n",
    "latitudes  = []\n",
    "while x < 11:\n",
    "        random_lat = random.randint(-90,89) + random.random()\n",
    "        latitudes.append(random_lat)\n",
    "        x += 1\n",
    "latitudes"
   ]
  },
  {
   "cell_type": "code",
   "execution_count": 12,
   "id": "09b6125e",
   "metadata": {},
   "outputs": [
    {
     "data": {
      "text/plain": [
       "15"
      ]
     },
     "execution_count": 12,
     "metadata": {},
     "output_type": "execute_result"
    }
   ],
   "source": [
    "random.randrange(-90,90,step=3)"
   ]
  },
  {
   "cell_type": "code",
   "execution_count": 13,
   "id": "80333ac8",
   "metadata": {},
   "outputs": [
    {
     "data": {
      "text/plain": [
       "38.93471278934655"
      ]
     },
     "execution_count": 13,
     "metadata": {},
     "output_type": "execute_result"
    }
   ],
   "source": [
    "random.uniform(-90,90)"
   ]
  },
  {
   "cell_type": "code",
   "execution_count": 14,
   "id": "e1fe3fb4",
   "metadata": {},
   "outputs": [],
   "source": [
    "import numpy as np"
   ]
  },
  {
   "cell_type": "code",
   "execution_count": 16,
   "id": "00de521b",
   "metadata": {},
   "outputs": [
    {
     "data": {
      "text/plain": [
       "array([-11.93140132, -46.65716068, -85.11180334, -81.51428051,\n",
       "        72.31247767, -46.85431711,  18.62389219,  71.258839  ,\n",
       "        82.09559726, -23.02307681,  44.20525333, -50.68214417,\n",
       "       -22.77788299, -63.85655289,  65.81038158, -43.81429106,\n",
       "       -59.03127683,  74.82074829, -38.0317044 ,  13.93376146,\n",
       "       -14.93561484, -25.87759079, -51.69910034,  48.28562351,\n",
       "       -46.72941944,  39.30624479, -68.27916579,   4.33306544,\n",
       "        89.79830423,  78.19213002, -53.96248657, -48.42997561,\n",
       "        52.57167362, -28.57007558, -86.61811691, -33.02379825,\n",
       "         4.54939168, -34.78611797,  51.99547078,  89.07043778,\n",
       "       -13.73323049,  67.98650513, -69.56295185, -66.7685053 ,\n",
       "       -29.66583226,  72.00162754,  71.30588481,  89.85846779,\n",
       "        64.50638539, -28.54481099])"
      ]
     },
     "execution_count": 16,
     "metadata": {},
     "output_type": "execute_result"
    }
   ],
   "source": [
    "np.random.uniform(-90.000,90.000, size=50)"
   ]
  },
  {
   "cell_type": "code",
   "execution_count": 17,
   "id": "3fd458f3",
   "metadata": {},
   "outputs": [],
   "source": [
    "import timeit"
   ]
  },
  {
   "cell_type": "code",
   "execution_count": 18,
   "id": "62b260c3",
   "metadata": {},
   "outputs": [
    {
     "name": "stdout",
     "output_type": "stream",
     "text": [
      "18.1 µs ± 539 ns per loop (mean ± std. dev. of 7 runs, 10000 loops each)\n"
     ]
    }
   ],
   "source": [
    "%timeit np.random.uniform(-90.000, 90.000, size=1500)"
   ]
  },
  {
   "cell_type": "code",
   "execution_count": 19,
   "id": "f471f112",
   "metadata": {},
   "outputs": [
    {
     "name": "stdout",
     "output_type": "stream",
     "text": [
      "1.85 ms ± 188 µs per loop (mean ± std. dev. of 7 runs, 100 loops each)\n"
     ]
    }
   ],
   "source": [
    "def latitudes(size):\n",
    "    latitudes = []\n",
    "    x = 0\n",
    "    while x < (size):\n",
    "        random_lat = random.randint(-90, 90) + random.random()\n",
    "        latitudes.append(random_lat)\n",
    "        x += 1\n",
    "    return latitudes\n",
    "# Call the function with 1500.\n",
    "%timeit latitudes(1500)"
   ]
  },
  {
   "cell_type": "code",
   "execution_count": null,
   "id": "757a0c2e",
   "metadata": {},
   "outputs": [],
   "source": []
  }
 ],
 "metadata": {
  "kernelspec": {
   "display_name": "Python 3 (ipykernel)",
   "language": "python",
   "name": "python3"
  },
  "language_info": {
   "codemirror_mode": {
    "name": "ipython",
    "version": 3
   },
   "file_extension": ".py",
   "mimetype": "text/x-python",
   "name": "python",
   "nbconvert_exporter": "python",
   "pygments_lexer": "ipython3",
   "version": "3.9.7"
  }
 },
 "nbformat": 4,
 "nbformat_minor": 5
}
